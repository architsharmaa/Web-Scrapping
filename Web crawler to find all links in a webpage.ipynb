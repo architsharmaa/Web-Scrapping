{
  "nbformat": 4,
  "nbformat_minor": 0,
  "metadata": {
    "colab": {
      "name": "Untitled1.ipynb",
      "version": "0.3.2",
      "provenance": [],
      "include_colab_link": true
    },
    "kernelspec": {
      "name": "python3",
      "display_name": "Python 3"
    }
  },
  "cells": [
    {
      "cell_type": "markdown",
      "metadata": {
        "id": "view-in-github",
        "colab_type": "text"
      },
      "source": [
        "<a href=\"https://colab.research.google.com/github/archiitsharmaa/Web-Scrapping/blob/master/Untitled1.ipynb\" target=\"_parent\"><img src=\"https://colab.research.google.com/assets/colab-badge.svg\" alt=\"Open In Colab\"/></a>"
      ]
    },
    {
      "cell_type": "code",
      "metadata": {
        "id": "FMtf9sfQo5gK",
        "colab_type": "code",
        "colab": {}
      },
      "source": [
        "import requests #library to process requests to a web page\n",
        "import bs4 #import Beautiful Soup Python package for parsing HTML and XML documents"
      ],
      "execution_count": 0,
      "outputs": []
    },
    {
      "cell_type": "code",
      "metadata": {
        "id": "_g52DNQ8ppk9",
        "colab_type": "code",
        "colab": {}
      },
      "source": [
        "res = requests.get('https://www.webscraper.io/test-sites/e-commerce/allinone') #requesting the source code of the website"
      ],
      "execution_count": 0,
      "outputs": []
    },
    {
      "cell_type": "code",
      "metadata": {
        "id": "1yNRG5UJqTuv",
        "colab_type": "code",
        "colab": {}
      },
      "source": [
        "soup = bs4.BeautifulSoup(res.text,'lxml') #applying the  beautiful soup method to the variable"
      ],
      "execution_count": 0,
      "outputs": []
    },
    {
      "cell_type": "code",
      "metadata": {
        "id": "eSjTyDnqr37_",
        "colab_type": "code",
        "colab": {
          "base_uri": "https://localhost:8080/",
          "height": 521
        },
        "outputId": "3ee3627a-967e-4ae0-921b-4ffc835e80e6"
      },
      "source": [
        "for link in soup.find_all('a',href=True):\n",
        "  if '#' in link['href']:\n",
        "    pass\n",
        "  elif link['href'][0] == '/':\n",
        "            print('https://www.{}.com{}'.format('https://www.webscraper.io/', link['href']))\n",
        " \n",
        "  else:\n",
        "    print(link['href'])"
      ],
      "execution_count": 25,
      "outputs": [
        {
          "output_type": "stream",
          "text": [
            "https://www.https://www.webscraper.io/.com/\n",
            "https://www.https://www.webscraper.io/.com/\n",
            "https://www.https://www.webscraper.io/.com/cloud-scraper\n",
            "https://www.https://www.webscraper.io/.com/data-specialist\n",
            "https://www.https://www.webscraper.io/.com/documentation\n",
            "https://www.https://www.webscraper.io/.com/tutorials\n",
            "https://www.https://www.webscraper.io/.com/test-sites\n",
            "https://forum.webscraper.io/\n",
            "https://chrome.google.com/webstore/detail/web-scraper/jnhgnonknehpejjnehehllkliplmbmhn?hl=en\n",
            "https://cloud.webscraper.io/\n",
            "https://www.https://www.webscraper.io/.com/test-sites/e-commerce/allinone\n",
            "https://www.https://www.webscraper.io/.com/test-sites/e-commerce/allinone/computers\n",
            "https://www.https://www.webscraper.io/.com/test-sites/e-commerce/allinone/phones\n",
            "https://www.https://www.webscraper.io/.com/test-sites/e-commerce/allinone/product/325\n",
            "https://www.https://www.webscraper.io/.com/test-sites/e-commerce/allinone/product/241\n",
            "https://www.https://www.webscraper.io/.com/test-sites/e-commerce/allinone/product/294\n",
            "https://www.https://www.webscraper.io/.com/\n",
            "https://www.https://www.webscraper.io/.com/pricing\n",
            "https://www.https://www.webscraper.io/.com/data-specialist\n",
            "https://www.https://www.webscraper.io/.com/contact\n",
            "https://www.https://www.webscraper.io/.com/privacy-policy\n",
            "https://www.https://www.webscraper.io/.com/blog\n",
            "https://www.https://www.webscraper.io/.com/documentation\n",
            "https://www.https://www.webscraper.io/.com/tutorials\n",
            "https://www.https://www.webscraper.io/.com/screenshots\n",
            "https://www.https://www.webscraper.io/.com/test-sites\n",
            "https://forum.webscraper.io/\n",
            "mailto:info@webscraper.io\n",
            "https://www.facebook.com/webscraperio/\n",
            "https://twitter.com/webscraperio\n"
          ],
          "name": "stdout"
        }
      ]
    },
    {
      "cell_type": "code",
      "metadata": {
        "id": "7EbggKmasrBo",
        "colab_type": "code",
        "colab": {}
      },
      "source": [
        ""
      ],
      "execution_count": 0,
      "outputs": []
    }
  ]
}
